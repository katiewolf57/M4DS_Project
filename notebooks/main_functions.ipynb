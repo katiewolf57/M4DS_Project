{
 "cells": [
  {
   "cell_type": "code",
   "execution_count": 12,
   "metadata": {},
   "outputs": [],
   "source": [
    "import numpy as np \n",
    "import matplotlib.pyplot as plt \n",
    "import matplotlib.colors as mcolors\n",
    "import matplotlib.dates as mdates\n",
    "import pandas as pd \n",
    "import re"
   ]
  },
  {
   "cell_type": "code",
   "execution_count": 5,
   "metadata": {},
   "outputs": [],
   "source": [
    "## ~~ READING DATA ~~ ##\n",
    "confirmed_df = pd.read_csv('https://raw.githubusercontent.com/CSSEGISandData/COVID-19/master/csse_covid_19_data/csse_covid_19_time_series/time_series_covid19_confirmed_global.csv')\n",
    "deaths_df = pd.read_csv('https://raw.githubusercontent.com/CSSEGISandData/COVID-19/master/csse_covid_19_data/csse_covid_19_time_series/time_series_covid19_deaths_global.csv')\n",
    "recoveries_df = pd.read_csv('https://raw.githubusercontent.com/CSSEGISandData/COVID-19/master/csse_covid_19_data/csse_covid_19_time_series/time_series_covid19_recovered_global.csv')\n",
    "latest_data = pd.read_csv('https://raw.githubusercontent.com/CSSEGISandData/COVID-19/master/csse_covid_19_data/csse_covid_19_daily_reports/12-01-2020.csv')\n",
    "us_medical_data = pd.read_csv('https://raw.githubusercontent.com/CSSEGISandData/COVID-19/master/csse_covid_19_data/csse_covid_19_daily_reports_us/12-01-2020.csv')\n",
    "apple_mobility = pd.read_csv('https://covid19-static.cdn-apple.com/covid19-mobility-data/2021HotfixDev34/v3/en-us/applemobilitytrends-2020-12-01.csv')\n",
    "import warnings\n",
    "warnings.filterwarnings(\"ignore\")"
   ]
  },
  {
   "cell_type": "code",
   "execution_count": 8,
   "metadata": {},
   "outputs": [],
   "source": [
    "## ~~ USEFUL VALUES FOR LATER ~~ ##\n",
    "cols = confirmed_df.keys()\n",
    "confirmed = confirmed_df.loc[:, cols[4]:cols[-1]]\n",
    "deaths = deaths_df.loc[:, cols[4]:cols[-1]]\n",
    "recoveries = recoveries_df.loc[:, cols[4]:cols[-1]]\n",
    "\n",
    "dates = confirmed.keys()\n",
    "world_cases = []\n",
    "total_deaths = [] \n",
    "mortality_rate = []\n",
    "recovery_rate = [] \n",
    "total_recovered = [] \n",
    "total_active = []"
   ]
  },
  {
   "cell_type": "code",
   "execution_count": 9,
   "metadata": {},
   "outputs": [],
   "source": [
    "## Summing things up over dates \n",
    "for i in dates:\n",
    "    confirmed_sum = confirmed[i].sum()\n",
    "    death_sum = deaths[i].sum()\n",
    "    recovered_sum = recoveries[i].sum()\n",
    "    \n",
    "    # confirmed, deaths, recovered, and active\n",
    "    world_cases.append(confirmed_sum)\n",
    "    total_deaths.append(death_sum)\n",
    "    total_recovered.append(recovered_sum)\n",
    "    total_active.append(confirmed_sum-death_sum-recovered_sum)\n",
    "    \n",
    "    # calculate rates\n",
    "    mortality_rate.append(death_sum/confirmed_sum)\n",
    "    recovery_rate.append(recovered_sum/confirmed_sum)"
   ]
  },
  {
   "cell_type": "code",
   "execution_count": 10,
   "metadata": {},
   "outputs": [],
   "source": [
    "## ~~ USEFUL FUNCTIONS FOR REPREATED USE ~~ ##\n",
    "def daily_increase(data):\n",
    "    d = [] \n",
    "    for i in range(len(data)):\n",
    "        if i == 0:\n",
    "            d.append(data[0])\n",
    "        else:\n",
    "            d.append(data[i]-data[i-1])\n",
    "    return d \n",
    "\n",
    "def moving_average(data, window_size):\n",
    "    moving_average = []\n",
    "    for i in range(len(data)):\n",
    "        if i + window_size < len(data):\n",
    "            moving_average.append(np.mean(data[i:i+window_size]))\n",
    "        else:\n",
    "            moving_average.append(np.mean(data[i:len(data)]))\n",
    "    return moving_average\n",
    "\n",
    "\n",
    "def get_country_info(country_name):\n",
    "    country_cases = []\n",
    "    country_deaths = []\n",
    "    country_recoveries = []  \n",
    "    \n",
    "    for i in dates:\n",
    "        country_cases.append(confirmed_df[confirmed_df['Country/Region']==country_name][i].sum())\n",
    "        country_deaths.append(deaths_df[deaths_df['Country/Region']==country_name][i].sum())\n",
    "        country_recoveries.append(recoveries_df[recoveries_df['Country/Region']==country_name][i].sum())\n",
    "\n",
    "    return (country_cases, country_deaths, country_recoveries)"
   ]
  },
  {
   "cell_type": "code",
   "execution_count": null,
   "metadata": {},
   "outputs": [],
   "source": []
  }
 ],
 "metadata": {
  "kernelspec": {
   "display_name": "Python 3",
   "language": "python",
   "name": "python3"
  },
  "language_info": {
   "codemirror_mode": {
    "name": "ipython",
    "version": 3
   },
   "file_extension": ".py",
   "mimetype": "text/x-python",
   "name": "python",
   "nbconvert_exporter": "python",
   "pygments_lexer": "ipython3",
   "version": "3.7.7"
  }
 },
 "nbformat": 4,
 "nbformat_minor": 4
}
